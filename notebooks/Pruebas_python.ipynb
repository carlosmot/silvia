{
 "cells": [
  {
   "cell_type": "code",
   "execution_count": null,
   "metadata": {},
   "outputs": [],
   "source": [
    "cant1 = 12,3\n",
    "cant2 = 200\n",
    "total = cant1 + cant2\n",
    "print(total)"
   ]
  },
  {
   "cell_type": "code",
   "execution_count": null,
   "metadata": {},
   "outputs": [],
   "source": [
    "marca = 'Coca Cola'\n",
    "print(marca)"
   ]
  },
  {
   "cell_type": "code",
   "execution_count": null,
   "metadata": {},
   "outputs": [],
   "source": [
    "marca2 = 'Me gusta \"Coca \\n\\n\\nCola\"'\n",
    "print(marca2)"
   ]
  },
  {
   "cell_type": "code",
   "execution_count": null,
   "metadata": {},
   "outputs": [],
   "source": [
    "#Evaluamos el tipò de dato de cada variable\n",
    "c1 = '123'\n",
    "c2 = 20.0\n",
    "#total = c1 + c2\n",
    "print(type(c2))"
   ]
  },
  {
   "cell_type": "code",
   "execution_count": null,
   "metadata": {},
   "outputs": [],
   "source": [
    "#Conversiones entre tipos de datos\n",
    "c1 = '123'\n",
    "c2 = 200\n",
    "\n",
    "c3 = float(c1)\n",
    "c4 = float(c2)\n",
    "\n",
    "total = c3 + c2\n",
    "print(type(c4))\n",
    "print(type(total))"
   ]
  },
  {
   "cell_type": "code",
   "execution_count": null,
   "metadata": {},
   "outputs": [],
   "source": [
    "c5 = 1 + 2\n",
    "print(c5)"
   ]
  },
  {
   "cell_type": "code",
   "execution_count": null,
   "metadata": {},
   "outputs": [],
   "source": [
    "#asignacion, el uso del simbolo '='\n",
    "a = 123\n",
    "print(a)"
   ]
  },
  {
   "cell_type": "code",
   "execution_count": null,
   "metadata": {},
   "outputs": [],
   "source": [
    "#Compàracion con el simbolo '=='\n",
    "a = 23\n",
    "b = 23\n",
    "print(a == b)"
   ]
  },
  {
   "cell_type": "markdown",
   "metadata": {},
   "source": [
    "### Ejemplo del uso del operador de igualda\n",
    "* El opp...."
   ]
  },
  {
   "cell_type": "code",
   "execution_count": null,
   "metadata": {},
   "outputs": [],
   "source": [
    "str1 = 'A'\n",
    "str2 = 'B'\n",
    "print(str1 == str2)\n",
    "#Operadores "
   ]
  },
  {
   "cell_type": "code",
   "execution_count": null,
   "metadata": {},
   "outputs": [],
   "source": [
    "v1 = 25\n",
    "v2 = 2\n",
    "total = v1 % v2\n",
    "print(total)\n",
    "if(total == 0):  #Estoy evaluando el cociente de la operacion anterior\n",
    "    print(\"es par\")\n",
    "else:\n",
    "    print(\"es impar\") "
   ]
  },
  {
   "cell_type": "code",
   "execution_count": null,
   "metadata": {},
   "outputs": [],
   "source": [
    "#Realmente esta evaluando la posicion que ocupa cada simbolo en la tabla de caracteres\n",
    "str1 = 'a'\n",
    "str2 = 'A'\n",
    "print(str1 > str2)"
   ]
  },
  {
   "cell_type": "code",
   "execution_count": null,
   "metadata": {},
   "outputs": [],
   "source": [
    "#mas operaciones con operadores\n",
    "c1 = 10\n",
    "c2 = 10\n",
    "print(c1 >= c2) "
   ]
  },
  {
   "cell_type": "code",
   "execution_count": null,
   "metadata": {},
   "outputs": [],
   "source": [
    "#uso de las combinaciones += -= *= /=\n",
    "c1 = 12\n",
    "c1 = 123\n",
    "c1 = 22\n",
    "#c1 = c1 * 100\n",
    "#c1 *= 100\n",
    "print(c1)"
   ]
  },
  {
   "cell_type": "code",
   "execution_count": null,
   "metadata": {},
   "outputs": [],
   "source": [
    "#jugando con las comparaciones y el bucle while\n",
    "x = 1\n",
    "i = 0\n",
    "while(i < 3):       \n",
    "     i = i + 1\n",
    "     print('i: ', i)\n",
    "     x = x * 2\n",
    "     print('x: ', x) \n",
    "\n",
    "print(x)    "
   ]
  },
  {
   "cell_type": "code",
   "execution_count": null,
   "metadata": {},
   "outputs": [],
   "source": [
    "#Uso de listas, se declaran con corchetes y se accede por posicion con ellos como los strings\n",
    "marcas = [\"Tarragona\", \"Lleida\", \"Girona\", \"Barcelona\"]\n",
    "print(len(marcas))\n",
    "#acceso por indeice a los elementos de la lista y su contenido\n",
    "print(marcas[2][1])"
   ]
  },
  {
   "cell_type": "code",
   "execution_count": null,
   "metadata": {},
   "outputs": [],
   "source": [
    "#uso de foreach: itera o recorre los elementos mientras haya\n",
    "documento = ['Muestra de la escitura de \\neste documento escrito hace un rato']\n",
    "#documento = 'Muestra de la escitura de este documento escrito hace un rato'  # ahpora es de tipo str o string\n",
    "print(type(documento))\n",
    "print(len(documento))\n",
    "for item in documento:\n",
    "    print(item)"
   ]
  },
  {
   "cell_type": "code",
   "execution_count": null,
   "metadata": {},
   "outputs": [],
   "source": [
    "'''def saludar(nombre):\n",
    "    print(\"Hola \", nombre)\n",
    " \n",
    "saludar(\"Silvia\")'''\n",
    "\n",
    "def saludar(nombre):\n",
    "    return \"Hola \" + nombre\n",
    "    #print(\"Hola\", nombre)\n",
    "\n",
    "x = saludar(\"Julia\")\n",
    "#saludar(\"Julia\")\n",
    "print(x.upper())    "
   ]
  },
  {
   "cell_type": "code",
   "execution_count": null,
   "metadata": {},
   "outputs": [],
   "source": [
    "#trabajando con funciones\n",
    "cantidad1 = int(input(\"Escribe la primera cantidad:\"))\n",
    "print(type(cantidad1))\n",
    "cantidad2 = int(input(\"Escribe la segunda cantidad:\"))\n",
    "operacion = input(\"Escribe la operacion:\")\n",
    "\n",
    "#definimos la operacion que vamos a usar de manera repetida\n",
    "def calcular(cantidad, cantidad2, operacion):\n",
    "    total = 0\n",
    "    if(operacion == '+'):\n",
    "       total = cantidad1 + cantidad2\n",
    "    elif(operacion == '-'):\n",
    "       total = cantidad1 - cantidad2\n",
    "    elif(operacion == '*'):\n",
    "       total = cantidad1 * cantidad2\n",
    "    elif(operacion == '/'):\n",
    "       total = cantidad1 / cantidad2\n",
    "    return total\n",
    "\n",
    "totalGeneral = calcular(cantidad1, cantidad2, operacion)\n",
    "\n",
    "\n",
    "print(totalGeneral)\n",
    "\n"
   ]
  },
  {
   "cell_type": "code",
   "execution_count": null,
   "metadata": {},
   "outputs": [],
   "source": [
    "##leemos un archivo desde el sistema de archivos local\n",
    "import os\n",
    "\n",
    "ruta = os.getcwd()\n",
    "print(ruta)"
   ]
  },
  {
   "cell_type": "code",
   "execution_count": null,
   "metadata": {},
   "outputs": [],
   "source": [
    "archivo = \"/home/alumno/Escritorio/Ejercicios-ProgramacionBigData/datos.csv\"\n",
    "f = open(archivo)\n",
    "#procedemos a la lectura\n",
    "lines = f.readlines()\n",
    "#obtenemos una lista de lineas en este caso\n",
    "print(lines[4])"
   ]
  },
  {
   "cell_type": "code",
   "execution_count": null,
   "metadata": {},
   "outputs": [],
   "source": [
    "nombre = \"      conjunto de datos                         \"\n",
    "demo = nombre.strip()\n",
    "print(demo)\n",
    "print(len(demo))"
   ]
  },
  {
   "cell_type": "code",
   "execution_count": null,
   "metadata": {},
   "outputs": [],
   "source": [
    "nombre = \"      conjunto de datos                         \"\n",
    "print(len(nombre.strip()))\n",
    "print(nombre)\n",
    "print(len(nombre))"
   ]
  },
  {
   "cell_type": "code",
   "execution_count": null,
   "metadata": {},
   "outputs": [],
   "source": [
    "nombre = \"      conjunto de datos                         \"\n",
    "#data = nombre.strip()\n",
    "#str = \"\"\n",
    "#print(data)\n",
    "##print(len(data))\n",
    "print(len(nombre))\n"
   ]
  },
  {
   "cell_type": "code",
   "execution_count": null,
   "metadata": {},
   "outputs": [],
   "source": [
    "archivo = \"/home/alumno/Escritorio/Ejercicios-ProgramacionBigData/datos.csv\"\n",
    "f = open(archivo)\n",
    "#procedemos a la lectura\n",
    "line = f.readline()\n",
    "print(\"--------\", line)\n",
    "seq = \"\"\n",
    "while(line):\n",
    "    line = f.readline()\n",
    "    print(\"...........\", line)\n",
    "    seq = seq + line.strip()\n",
    "    print(seq)\n",
    "    \n",
    "print(seq)"
   ]
  },
  {
   "cell_type": "code",
   "execution_count": null,
   "metadata": {},
   "outputs": [],
   "source": []
  },
  {
   "cell_type": "markdown",
   "metadata": {},
   "source": [
    "<a href=\"https://colab.research.google.com/github/jakevdp/PythonDataScienceHandbook/blob/master/notebooks/03.11-Working-with-Time-Series.ipynb\"><img align=\"left\" src=\"https://colab.research.google.com/assets/colab-badge.svg\" alt=\"Open in Colab\" title=\"Open and Execute in Google Colaboratory\"></a>"
   ]
  }
 ],
 "metadata": {
  "kernelspec": {
   "display_name": "Python 3",
   "language": "python",
   "name": "python3"
  },
  "language_info": {
   "codemirror_mode": {
    "name": "ipython",
    "version": 3
   },
   "file_extension": ".py",
   "mimetype": "text/x-python",
   "name": "python",
   "nbconvert_exporter": "python",
   "pygments_lexer": "ipython3",
   "version": "3.7.1"
  }
 },
 "nbformat": 4,
 "nbformat_minor": 2
}
